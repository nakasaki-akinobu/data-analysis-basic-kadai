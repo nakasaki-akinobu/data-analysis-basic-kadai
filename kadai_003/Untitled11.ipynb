{
  "nbformat": 4,
  "nbformat_minor": 0,
  "metadata": {
    "colab": {
      "provenance": []
    },
    "kernelspec": {
      "name": "python3",
      "display_name": "Python 3"
    },
    "language_info": {
      "name": "python"
    }
  },
  "cells": [
    {
      "cell_type": "code",
      "source": [
        "# NumPyをインポートするコードを記述する\n",
        "import numpy as np\n",
        "# AとBの行列を格納する多次元配列のコードを記述する\n",
        "A = np.array([[0, 1], [2, 3], [4, 5]])\n",
        "B = np.array([[0, 1, 2, 3], [4, 5, 6, 7]])\n",
        "# 行列の積の計算をするコードを記述する\n",
        "result = np.dot(A, B)\n",
        "# Step3の計算結果を表示するコードを記述する\n",
        "print(result)\n",
        "# 行列の要素の最大値を求めるコードを記述する\n",
        "result.max()\n"
      ],
      "metadata": {
        "colab": {
          "base_uri": "https://localhost:8080/"
        },
        "id": "HogljcE02PQ9",
        "outputId": "c7e1e391-9653-4fe6-ecaa-85dee9fb7964"
      },
      "execution_count": 53,
      "outputs": [
        {
          "output_type": "stream",
          "name": "stdout",
          "text": [
            "[[ 4  5  6  7]\n",
            " [12 17 22 27]\n",
            " [20 29 38 47]]\n"
          ]
        },
        {
          "output_type": "execute_result",
          "data": {
            "text/plain": [
              "47"
            ]
          },
          "metadata": {},
          "execution_count": 53
        }
      ]
    }
  ]
}