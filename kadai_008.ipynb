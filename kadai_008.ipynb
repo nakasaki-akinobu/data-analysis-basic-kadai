{
  "nbformat": 4,
  "nbformat_minor": 0,
  "metadata": {
    "colab": {
      "provenance": []
    },
    "kernelspec": {
      "name": "python3",
      "display_name": "Python 3"
    },
    "language_info": {
      "name": "python"
    }
  },
  "cells": [
    {
      "cell_type": "code",
      "execution_count": 8,
      "metadata": {
        "colab": {
          "base_uri": "https://localhost:8080/"
        },
        "id": "Pb9z-KkP0Y9b",
        "outputId": "77d12e6e-afe6-4a93-c3f1-9dc9a63d7d1e"
      },
      "outputs": [
        {
          "output_type": "stream",
          "name": "stdout",
          "text": [
            "(178, 13) (124, 13) (54, 13) (178,) (124,) (54,)\n"
          ]
        },
        {
          "output_type": "execute_result",
          "data": {
            "text/plain": [
              "0.9629629629629629"
            ]
          },
          "metadata": {},
          "execution_count": 8
        }
      ],
      "source": [
        "# Step1.サンプルデータの取得\n",
        "from sklearn.datasets import load_wine\n",
        "# Step1.インポートしたload_wine関数を実行し、datasetに変数に代入\n",
        "dataset = load_wine()\n",
        "dataset\n",
        "# Step.1ワインの成分\n",
        "dataset.data\n",
        "# Step1.要素の名称\n",
        "dataset.feature_names\n",
        "# Step1.DataFrameで表示\n",
        "import pandas as pd\n",
        "df = pd.DataFrame(data=dataset.data, columns=dataset.feature_names)\n",
        "df.head()\n",
        "# Step1.ワインの種別\n",
        "dataset.target\n",
        "# Step1.ワインの成分表示にワインの種別も追加(要素名はcategory)\n",
        "df[\"category\"] = dataset.target\n",
        "df.head()\n",
        "# Step1.データ数を確認\n",
        "df.shape\n",
        "# Step1.x=説明変数（機械学習の予測モデルに使用するデータ）、y=目的変数（予測値として出力されるデータ）\n",
        "x = dataset.data\n",
        "y = dataset.target\n",
        "# Step1.train_test_split関数をインポート\n",
        "from sklearn.model_selection import train_test_split\n",
        "# Step1.train_test_split関数を実行（random_stateのパラメータを特定数値にして配分されるレコードを固定する）\n",
        "train_test_split(x, y, test_size=0.3, random_state=5)\n",
        "# Step1.4つの要素をそれぞれに代入\n",
        "x_train, x_test, y_train, y_test = train_test_split(x, y, test_size=0.3, random_state=5)\n",
        "# Step1.実際に7:3に分割されているか、レコード数を確認\n",
        "print(x.shape, x_train.shape, x_test.shape, y.shape, y_train.shape, y_test.shape)\n",
        "\n",
        "# Step2.\n",
        "from sklearn.ensemble import RandomForestClassifier\n",
        "model = RandomForestClassifier(random_state=3)\n",
        "\n",
        "# Step3.予測モデルの学習\n",
        "model.fit(x_train, y_train)\n",
        "# Step3.予測モデルの評価\n",
        "y_pred = model.predict(x_test)\n",
        "\n",
        "from sklearn.metrics import accuracy_score\n",
        "accuracy_score(y_test, y_pred)\n",
        "\n",
        "\n",
        "\n"
      ]
    }
  ]
}